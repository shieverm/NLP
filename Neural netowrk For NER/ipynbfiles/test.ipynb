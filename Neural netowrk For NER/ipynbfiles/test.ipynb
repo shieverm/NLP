{
 "cells": [
  {
   "cell_type": "markdown",
   "metadata": {},
   "source": [
    "#Author :Shiena Verma\n",
    "\n",
    "Problem : Build a neural network for NER using BERT Embeddings & FastText Embeddings"
   ]
  },
  {
   "cell_type": "markdown",
   "metadata": {},
   "source": [
    "#### We divide the section into 4 parts.\n",
    "1. Load & visualize the dataset\n",
    "2. Implement the approach using Bert\n",
    "3. Implement the approach using FastText\n",
    "4. Evaluate the performance of Bert & FastText models"
   ]
  },
  {
   "cell_type": "code",
   "execution_count": 1,
   "metadata": {
    "_cell_guid": "b1076dfc-b9ad-4769-8c92-a6c4dae69d19",
    "_uuid": "8f2839f25d086af736a60e9eeb907d3b93b6e0e5",
    "execution": {
     "iopub.execute_input": "2023-09-24T08:49:17.970354Z",
     "iopub.status.busy": "2023-09-24T08:49:17.969445Z",
     "iopub.status.idle": "2023-09-24T08:49:59.480453Z",
     "shell.execute_reply": "2023-09-24T08:49:59.479191Z",
     "shell.execute_reply.started": "2023-09-24T08:49:17.970270Z"
    }
   },
   "outputs": [],
   "source": [
    "import pandas as pd\n",
    "import numpy as np\n",
    "import matplotlib.pyplot as plt\n",
    "import torch\n",
    "import torch.nn as nn\n",
    "import torch.optim as optim\n",
    "from torch.utils.data import DataLoader, TensorDataset\n",
    "from gensim.models import FastText\n",
    "from torch.nn.utils.rnn import pad_sequence\n",
    "import spacy\n",
    "from transformers import BertTokenizer, BertForTokenClassification, AdamW\n",
    "from torch.utils.data import TensorDataset, DataLoader, RandomSampler, SequentialSampler\n",
    "from sklearn.model_selection import train_test_split\n",
    "from sklearn.metrics import classification_report\n",
    "from collections import Counter\n",
    "import seaborn as sns"
   ]
  },
  {
   "cell_type": "code",
   "execution_count": 2,
   "metadata": {
    "execution": {
     "iopub.execute_input": "2023-09-24T08:50:14.415166Z",
     "iopub.status.busy": "2023-09-24T08:50:14.414745Z",
     "iopub.status.idle": "2023-09-24T08:50:14.421351Z",
     "shell.execute_reply": "2023-09-24T08:50:14.420003Z",
     "shell.execute_reply.started": "2023-09-24T08:50:14.415132Z"
    }
   },
   "outputs": [],
   "source": [
    "# src dir & fastText model path\n",
    "data_path = \"/home/users/tanmay_jain/bits_assignment/NLP/assignment2/ner_dataset.csv\"\n",
    "fastText_model_path = \"/home/users/tanmay_jain/FastText_model/cc.en.300.bin\""
   ]
  },
  {
   "cell_type": "markdown",
   "metadata": {},
   "source": [
    "# Section 1: Load & visualize the dataset"
   ]
  },
  {
   "cell_type": "code",
   "execution_count": 3,
   "metadata": {
    "execution": {
     "iopub.execute_input": "2023-09-24T08:51:03.457474Z",
     "iopub.status.busy": "2023-09-24T08:51:03.457012Z",
     "iopub.status.idle": "2023-09-24T08:51:05.016150Z",
     "shell.execute_reply": "2023-09-24T08:51:05.014554Z",
     "shell.execute_reply.started": "2023-09-24T08:51:03.457440Z"
    }
   },
   "outputs": [],
   "source": [
    "# Load the dataset\n",
    "data = pd.read_csv(data_path, encoding=\"latin1\")\n",
    "data = data.fillna(method=\"ffill\")  # Forward fill missing values"
   ]
  },
  {
   "cell_type": "code",
   "execution_count": 4,
   "metadata": {
    "execution": {
     "iopub.execute_input": "2023-09-24T08:51:07.343034Z",
     "iopub.status.busy": "2023-09-24T08:51:07.342633Z",
     "iopub.status.idle": "2023-09-24T08:51:07.350675Z",
     "shell.execute_reply": "2023-09-24T08:51:07.348978Z",
     "shell.execute_reply.started": "2023-09-24T08:51:07.343005Z"
    }
   },
   "outputs": [],
   "source": [
    "#Due to resource constraints, we have utilized a reduced subset of the data while keeping the overall approach unchanged.\n",
    "data = data[:10000]"
   ]
  },
  {
   "cell_type": "code",
   "execution_count": 5,
   "metadata": {
    "execution": {
     "iopub.execute_input": "2023-09-24T08:51:08.731703Z",
     "iopub.status.busy": "2023-09-24T08:51:08.731022Z",
     "iopub.status.idle": "2023-09-24T08:51:08.759768Z",
     "shell.execute_reply": "2023-09-24T08:51:08.757948Z",
     "shell.execute_reply.started": "2023-09-24T08:51:08.731671Z"
    }
   },
   "outputs": [
    {
     "data": {
      "text/html": [
       "<div>\n",
       "<style scoped>\n",
       "    .dataframe tbody tr th:only-of-type {\n",
       "        vertical-align: middle;\n",
       "    }\n",
       "\n",
       "    .dataframe tbody tr th {\n",
       "        vertical-align: top;\n",
       "    }\n",
       "\n",
       "    .dataframe thead th {\n",
       "        text-align: right;\n",
       "    }\n",
       "</style>\n",
       "<table border=\"1\" class=\"dataframe\">\n",
       "  <thead>\n",
       "    <tr style=\"text-align: right;\">\n",
       "      <th></th>\n",
       "      <th>Sentence #</th>\n",
       "      <th>Word</th>\n",
       "      <th>POS</th>\n",
       "      <th>Tag</th>\n",
       "    </tr>\n",
       "  </thead>\n",
       "  <tbody>\n",
       "    <tr>\n",
       "      <th>0</th>\n",
       "      <td>Sentence: 1</td>\n",
       "      <td>Thousands</td>\n",
       "      <td>NNS</td>\n",
       "      <td>O</td>\n",
       "    </tr>\n",
       "    <tr>\n",
       "      <th>1</th>\n",
       "      <td>Sentence: 1</td>\n",
       "      <td>of</td>\n",
       "      <td>IN</td>\n",
       "      <td>O</td>\n",
       "    </tr>\n",
       "    <tr>\n",
       "      <th>2</th>\n",
       "      <td>Sentence: 1</td>\n",
       "      <td>demonstrators</td>\n",
       "      <td>NNS</td>\n",
       "      <td>O</td>\n",
       "    </tr>\n",
       "    <tr>\n",
       "      <th>3</th>\n",
       "      <td>Sentence: 1</td>\n",
       "      <td>have</td>\n",
       "      <td>VBP</td>\n",
       "      <td>O</td>\n",
       "    </tr>\n",
       "    <tr>\n",
       "      <th>4</th>\n",
       "      <td>Sentence: 1</td>\n",
       "      <td>marched</td>\n",
       "      <td>VBN</td>\n",
       "      <td>O</td>\n",
       "    </tr>\n",
       "  </tbody>\n",
       "</table>\n",
       "</div>"
      ],
      "text/plain": [
       "    Sentence #           Word  POS Tag\n",
       "0  Sentence: 1      Thousands  NNS   O\n",
       "1  Sentence: 1             of   IN   O\n",
       "2  Sentence: 1  demonstrators  NNS   O\n",
       "3  Sentence: 1           have  VBP   O\n",
       "4  Sentence: 1        marched  VBN   O"
      ]
     },
     "execution_count": 5,
     "metadata": {},
     "output_type": "execute_result"
    }
   ],
   "source": [
    "# head the dataset\n",
    "data.head()"
   ]
  },
  {
   "cell_type": "code",
   "execution_count": 7,
   "metadata": {
    "execution": {
     "iopub.execute_input": "2023-09-24T08:51:10.911326Z",
     "iopub.status.busy": "2023-09-24T08:51:10.910605Z",
     "iopub.status.idle": "2023-09-24T08:51:10.917220Z",
     "shell.execute_reply": "2023-09-24T08:51:10.916269Z",
     "shell.execute_reply.started": "2023-09-24T08:51:10.911275Z"
    }
   },
   "outputs": [
    {
     "name": "stdout",
     "output_type": "stream",
     "text": [
      "(10000, 4)\n"
     ]
    }
   ],
   "source": [
    "# print the number of rows & columns\n",
    "print(data.shape)"
   ]
  },
  {
   "cell_type": "code",
   "execution_count": 8,
   "metadata": {
    "execution": {
     "iopub.execute_input": "2023-09-24T08:51:12.328180Z",
     "iopub.status.busy": "2023-09-24T08:51:12.327706Z",
     "iopub.status.idle": "2023-09-24T08:51:12.347007Z",
     "shell.execute_reply": "2023-09-24T08:51:12.344865Z",
     "shell.execute_reply.started": "2023-09-24T08:51:12.328145Z"
    }
   },
   "outputs": [
    {
     "name": "stdout",
     "output_type": "stream",
     "text": [
      "Sentence #    0\n",
      "Word          0\n",
      "POS           0\n",
      "Tag           0\n",
      "dtype: int64\n"
     ]
    }
   ],
   "source": [
    "# print number of null values in each column\n",
    "print(data.isnull().sum())"
   ]
  },
  {
   "cell_type": "code",
   "execution_count": 9,
   "metadata": {
    "execution": {
     "iopub.execute_input": "2023-09-24T08:51:14.220504Z",
     "iopub.status.busy": "2023-09-24T08:51:14.219948Z",
     "iopub.status.idle": "2023-09-24T08:51:14.267960Z",
     "shell.execute_reply": "2023-09-24T08:51:14.266010Z",
     "shell.execute_reply.started": "2023-09-24T08:51:14.220463Z"
    }
   },
   "outputs": [
    {
     "name": "stdout",
     "output_type": "stream",
     "text": [
      "           Sentence #   Word    POS    Tag\n",
      "count           10000  10000  10000  10000\n",
      "unique            457   2746     39     17\n",
      "top     Sentence: 336    the     NN      O\n",
      "freq               46    497   1341   8483\n"
     ]
    }
   ],
   "source": [
    "# get the insights about dataset\n",
    "print(data.describe())"
   ]
  },
  {
   "cell_type": "code",
   "execution_count": 10,
   "metadata": {
    "execution": {
     "iopub.execute_input": "2023-09-24T08:51:15.669061Z",
     "iopub.status.busy": "2023-09-24T08:51:15.668600Z",
     "iopub.status.idle": "2023-09-24T08:51:15.695280Z",
     "shell.execute_reply": "2023-09-24T08:51:15.693234Z",
     "shell.execute_reply.started": "2023-09-24T08:51:15.669028Z"
    }
   },
   "outputs": [
    {
     "name": "stdout",
     "output_type": "stream",
     "text": [
      "(9344, 4)\n"
     ]
    }
   ],
   "source": [
    "# drop duplicates\n",
    "data.drop_duplicates(inplace=True)\n",
    "\n",
    "#print number of rows & columns\n",
    "print(data.shape)"
   ]
  },
  {
   "cell_type": "code",
   "execution_count": 11,
   "metadata": {
    "execution": {
     "iopub.execute_input": "2023-09-24T08:51:17.455356Z",
     "iopub.status.busy": "2023-09-24T08:51:17.454087Z",
     "iopub.status.idle": "2023-09-24T08:51:17.486807Z",
     "shell.execute_reply": "2023-09-24T08:51:17.485593Z",
     "shell.execute_reply.started": "2023-09-24T08:51:17.455257Z"
    }
   },
   "outputs": [
    {
     "name": "stdout",
     "output_type": "stream",
     "text": [
      "<class 'pandas.core.frame.DataFrame'>\n",
      "Index: 9344 entries, 0 to 9998\n",
      "Data columns (total 4 columns):\n",
      " #   Column      Non-Null Count  Dtype \n",
      "---  ------      --------------  ----- \n",
      " 0   Sentence #  9344 non-null   object\n",
      " 1   Word        9344 non-null   object\n",
      " 2   POS         9344 non-null   object\n",
      " 3   Tag         9344 non-null   object\n",
      "dtypes: object(4)\n",
      "memory usage: 365.0+ KB\n"
     ]
    }
   ],
   "source": [
    "# get the insights about dataset\n",
    "data.info() "
   ]
  },
  {
   "cell_type": "code",
   "execution_count": 12,
   "metadata": {
    "execution": {
     "iopub.execute_input": "2023-09-24T08:51:19.875625Z",
     "iopub.status.busy": "2023-09-24T08:51:19.875107Z",
     "iopub.status.idle": "2023-09-24T08:51:19.884896Z",
     "shell.execute_reply": "2023-09-24T08:51:19.883107Z",
     "shell.execute_reply.started": "2023-09-24T08:51:19.875582Z"
    }
   },
   "outputs": [
    {
     "name": "stdout",
     "output_type": "stream",
     "text": [
      "['I-org', 'I-tim', 'B-nat', 'B-org', 'I-nat', 'I-geo', 'B-gpe', 'I-eve', 'B-tim', 'O', 'I-per', 'I-gpe', 'B-eve', 'B-geo', 'B-art', 'I-art', 'B-per']\n"
     ]
    }
   ],
   "source": [
    "# print unique tag values\n",
    "tag_values = list(set(data[\"Tag\"].values))\n",
    "\n",
    "print(tag_values)"
   ]
  },
  {
   "cell_type": "code",
   "execution_count": 13,
   "metadata": {
    "execution": {
     "iopub.execute_input": "2023-09-24T08:51:22.823119Z",
     "iopub.status.busy": "2023-09-24T08:51:22.822116Z",
     "iopub.status.idle": "2023-09-24T08:51:23.291891Z",
     "shell.execute_reply": "2023-09-24T08:51:23.290344Z",
     "shell.execute_reply.started": "2023-09-24T08:51:22.823069Z"
    }
   },
   "outputs": [
    {
     "data": {
      "image/png": "[encoded data removed]",
      "text/plain": [
       "<Figure size 640x480 with 1 Axes>"
      ]
     },
     "metadata": {},
     "output_type": "display_data"
    }
   ],
   "source": [
    "# plot distribution of sentence length\n",
    "agg_func = lambda s: [(w, p, t) for w, p, t in zip(s[\"Word\"].values.tolist(),\n",
    "                                                   s[\"POS\"].values.tolist(),\n",
    "                                                   s[\"Tag\"].values.tolist())]\n",
    "grouped = data.groupby(\"Sentence #\").apply(agg_func)\n",
    "sentences = [s for s in grouped]\n",
    "\n",
    "# Calculate the lengths of the sentences\n",
    "sentence_lengths = [len(sentence) for sentence in sentences]\n",
    "\n",
    "# Create a histogram\n",
    "plt.hist(sentence_lengths, bins=10, alpha=0.5, color='b', edgecolor='black')\n",
    "\n",
    "# Add labels and a title\n",
    "plt.xlabel('Sentence Length')\n",
    "plt.ylabel('Frequency')\n",
    "plt.title('Distribution of Sentence Lengths')\n",
    "\n",
    "# Display the histogram\n",
    "plt.show()\n"
   ]
  },
  {
   "cell_type": "code",
   "execution_count": 14,
   "metadata": {
    "execution": {
     "iopub.execute_input": "2023-09-24T08:51:24.689479Z",
     "iopub.status.busy": "2023-09-24T08:51:24.689063Z",
     "iopub.status.idle": "2023-09-24T08:51:25.222402Z",
     "shell.execute_reply": "2023-09-24T08:51:25.221042Z",
     "shell.execute_reply.started": "2023-09-24T08:51:24.689449Z"
    }
   },
   "outputs": [
    {
     "name": "stdout",
     "output_type": "stream",
     "text": [
      "Number of unique POS : 39\n"
     ]
    },
    {
     "data": {
      "image/png": "[encoded data removed]",
      "text/plain": [
       "<Figure size 1000x500 with 1 Axes>"
      ]
     },
     "metadata": {},
     "output_type": "display_data"
    },
    {
     "name": "stdout",
     "output_type": "stream",
     "text": [
      "POS\n",
      "NN      1324\n",
      "NNP     1263\n",
      "IN      1055\n",
      "NNS      745\n",
      "DT       731\n",
      "JJ       727\n",
      ".        455\n",
      "VBD      356\n",
      "VBN      316\n",
      "VBZ      253\n",
      "VB       239\n",
      "CD       198\n",
      "VBP      181\n",
      "CC       180\n",
      "TO       178\n",
      "RB       178\n",
      "VBG      177\n",
      ",        176\n",
      "PRP      153\n",
      "POS       87\n",
      "MD        73\n",
      "PRP$      68\n",
      "WRB       36\n",
      "WDT       33\n",
      "JJS       28\n",
      "JJR       25\n",
      "RP        19\n",
      "``        18\n",
      "WP        17\n",
      "NNPS      16\n",
      "EX         9\n",
      "RBR        8\n",
      "$          5\n",
      ":          4\n",
      "RBS        4\n",
      "LRB        3\n",
      "RRB        3\n",
      "PDT        2\n",
      "WP$        1\n",
      "Name: count, dtype: int64\n"
     ]
    }
   ],
   "source": [
    "# plot distribution of POS\n",
    "pos_l = list(set(data[\"POS\"].values))\n",
    "print('Number of unique POS :', len(pos_l))\n",
    "\n",
    "plt.figure(figsize=(10, 5))\n",
    "data[data['POS'] != 'O']['POS'].value_counts().plot.bar()\n",
    "plt.show()\n",
    "\n",
    "print(data[\"POS\"].value_counts())"
   ]
  },
  {
   "cell_type": "code",
   "execution_count": 15,
   "metadata": {
    "execution": {
     "iopub.execute_input": "2023-09-24T08:51:30.320452Z",
     "iopub.status.busy": "2023-09-24T08:51:30.319894Z",
     "iopub.status.idle": "2023-09-24T08:51:30.699057Z",
     "shell.execute_reply": "2023-09-24T08:51:30.698115Z",
     "shell.execute_reply.started": "2023-09-24T08:51:30.320411Z"
    }
   },
   "outputs": [
    {
     "name": "stdout",
     "output_type": "stream",
     "text": [
      "Number of unique tags :: 17\n"
     ]
    },
    {
     "data": {
      "image/png": "[encoded data removed]",
      "text/plain": [
       "<Figure size 1000x500 with 1 Axes>"
      ]
     },
     "metadata": {},
     "output_type": "display_data"
    },
    {
     "name": "stdout",
     "output_type": "stream",
     "text": [
      "Tag\n",
      "O        7858\n",
      "B-gpe     286\n",
      "B-geo     241\n",
      "I-per     205\n",
      "B-org     171\n",
      "B-per     159\n",
      "B-tim     148\n",
      "I-org     138\n",
      "I-geo      30\n",
      "B-art      28\n",
      "I-art      20\n",
      "I-gpe      20\n",
      "I-tim      13\n",
      "B-eve      10\n",
      "I-eve      10\n",
      "B-nat       5\n",
      "I-nat       2\n",
      "Name: count, dtype: int64\n"
     ]
    }
   ],
   "source": [
    "# plot distribution of TAG\n",
    "tags = list(set(data[\"Tag\"].values))\n",
    "print('Number of unique tags ::', len(tags))\n",
    "\n",
    "plt.figure(figsize=(10, 5))\n",
    "data[data['Tag'] != 'O']['Tag'].value_counts().plot.bar()\n",
    "plt.show()\n",
    "\n",
    "print(data[\"Tag\"].value_counts())"
   ]
  },
  {
   "cell_type": "markdown",
   "metadata": {},
   "source": [
    "# Section 2: Approach using Bert"
   ]
  },
  {
   "cell_type": "code",
   "execution_count": 16,
   "metadata": {
    "execution": {
     "iopub.execute_input": "2023-09-24T08:59:14.855930Z",
     "iopub.status.busy": "2023-09-24T08:59:14.855451Z",
     "iopub.status.idle": "2023-09-24T08:59:14.867361Z",
     "shell.execute_reply": "2023-09-24T08:59:14.865622Z",
     "shell.execute_reply.started": "2023-09-24T08:59:14.855892Z"
    }
   },
   "outputs": [],
   "source": [
    "# Create word-to-index and index-to-word mappings\n",
    "all_words = set(data[\"Word\"].values)\n",
    "word_to_index = {word: idx for idx, word in enumerate(all_words)}\n",
    "index_to_word = {idx: word for word, idx in word_to_index.items()}"
   ]
  },
  {
   "cell_type": "code",
   "execution_count": 17,
   "metadata": {
    "execution": {
     "iopub.execute_input": "2023-09-24T08:59:15.958023Z",
     "iopub.status.busy": "2023-09-24T08:59:15.955568Z",
     "iopub.status.idle": "2023-09-24T08:59:15.973542Z",
     "shell.execute_reply": "2023-09-24T08:59:15.971647Z",
     "shell.execute_reply.started": "2023-09-24T08:59:15.957968Z"
    }
   },
   "outputs": [
    {
     "name": "stdout",
     "output_type": "stream",
     "text": [
      "{'problematic': 2745, 'Development': 2744, 'important': 2743, 'passed': 2742, 'influenza': 2741}\n"
     ]
    }
   ],
   "source": [
    "# print the word_to_index upto 5\n",
    "dict(Counter(word_to_index).most_common(5))"
   ]
  },
  {
   "cell_type": "code",
   "execution_count": 18,
   "metadata": {
    "execution": {
     "iopub.execute_input": "2023-09-24T08:59:19.995831Z",
     "iopub.status.busy": "2023-09-24T08:59:19.994133Z",
     "iopub.status.idle": "2023-09-24T08:59:20.014040Z",
     "shell.execute_reply": "2023-09-24T08:59:20.012236Z",
     "shell.execute_reply.started": "2023-09-24T08:59:19.995631Z"
    }
   },
   "outputs": [
    {
     "name": "stdout",
     "output_type": "stream",
     "text": [
      "{2380: '\\x85', 2543: 'youth', 2322: 'young', 2072: 'years', 2660: 'year'}\n"
     ]
    }
   ],
   "source": [
    "# print the index_to_word upto 5\n",
    "dict(Counter(index_to_word).most_common(5))"
   ]
  },
  {
   "cell_type": "code",
   "execution_count": 19,
   "metadata": {
    "execution": {
     "iopub.execute_input": "2023-09-24T08:59:21.284091Z",
     "iopub.status.busy": "2023-09-24T08:59:21.283500Z",
     "iopub.status.idle": "2023-09-24T08:59:21.293139Z",
     "shell.execute_reply": "2023-09-24T08:59:21.291280Z",
     "shell.execute_reply.started": "2023-09-24T08:59:21.284051Z"
    }
   },
   "outputs": [],
   "source": [
    "# Map NER labels to integers\n",
    "ner_labels = list(set(data[\"Tag\"].values))\n",
    "ner_label_to_id = {label: idx for idx, label in enumerate(ner_labels)}"
   ]
  },
  {
   "cell_type": "code",
   "execution_count": 20,
   "metadata": {
    "execution": {
     "iopub.execute_input": "2023-09-24T08:59:23.804473Z",
     "iopub.status.busy": "2023-09-24T08:59:23.804033Z",
     "iopub.status.idle": "2023-09-24T08:59:23.813818Z",
     "shell.execute_reply": "2023-09-24T08:59:23.812748Z",
     "shell.execute_reply.started": "2023-09-24T08:59:23.804441Z"
    }
   },
   "outputs": [
    {
     "data": {
      "text/plain": [
       "{'I-per': 0,\n",
       " 'I-tim': 1,\n",
       " 'I-eve': 2,\n",
       " 'B-eve': 3,\n",
       " 'I-art': 4,\n",
       " 'I-org': 5,\n",
       " 'B-geo': 6,\n",
       " 'B-org': 7,\n",
       " 'I-gpe': 8,\n",
       " 'B-gpe': 9,\n",
       " 'B-nat': 10,\n",
       " 'I-nat': 11,\n",
       " 'B-art': 12,\n",
       " 'B-tim': 13,\n",
       " 'I-geo': 14,\n",
       " 'O': 15,\n",
       " 'B-per': 16}"
      ]
     },
     "execution_count": 20,
     "metadata": {},
     "output_type": "execute_result"
    }
   ],
   "source": [
    "# print ner_label_to_id\n",
    "ner_label_to_id"
   ]
  },
  {
   "cell_type": "code",
   "execution_count": 22,
   "metadata": {
    "execution": {
     "iopub.execute_input": "2023-09-24T08:59:25.858890Z",
     "iopub.status.busy": "2023-09-24T08:59:25.858190Z",
     "iopub.status.idle": "2023-09-24T08:59:26.019196Z",
     "shell.execute_reply": "2023-09-24T08:59:26.017270Z",
     "shell.execute_reply.started": "2023-09-24T08:59:25.858847Z"
    }
   },
   "outputs": [],
   "source": [
    "# Convert sentences to tuples\n",
    "sentences = []\n",
    "for group, sentence in data.groupby(\"Sentence #\"):\n",
    "    words = sentence[\"Word\"].tolist()\n",
    "    entities = sentence[\"Tag\"].tolist()\n",
    "    sentence_tuples = list(zip(words, entities))\n",
    "    sentences.append(sentence_tuples)\n",
    "\n",
    "# Split the data into training and testing sets\n",
    "train_sentences, test_sentences = train_test_split(sentences, test_size=0.2, random_state=42)"
   ]
  },
  {
   "cell_type": "code",
   "execution_count": 23,
   "metadata": {
    "execution": {
     "iopub.execute_input": "2023-09-24T08:59:27.216040Z",
     "iopub.status.busy": "2023-09-24T08:59:27.215508Z",
     "iopub.status.idle": "2023-09-24T08:59:27.224071Z",
     "shell.execute_reply": "2023-09-24T08:59:27.222646Z",
     "shell.execute_reply.started": "2023-09-24T08:59:27.215996Z"
    }
   },
   "outputs": [
    {
     "name": "stdout",
     "output_type": "stream",
     "text": [
      "[[('Russian', 'B-gpe'), ('officials', 'O'), ('say', 'O'), ('at', 'O'), ('least', 'O'), ('five', 'O'), ('more', 'O'), ('people', 'O'), ('have', 'O'), ('died', 'O'), ('from', 'O'), ('a', 'O'), ('wave', 'O'), ('of', 'O'), ('extremely', 'O'), ('cold', 'O'), ('weather', 'O'), ('gripping', 'O'), ('the', 'O'), ('nation', 'O'), (',', 'O'), ('bringing', 'O'), ('the', 'O'), ('death', 'O'), ('toll', 'O'), ('to', 'O'), ('43', 'O'), ('in', 'O'), ('the', 'O'), ('past', 'O'), ('week', 'O'), ('.', 'O')], [('They', 'O'), ('were', 'O'), ('convicted', 'O'), ('of', 'O'), ('plotting', 'O'), ('to', 'O'), ('kill', 'O'), ('Mr.', 'B-per'), ('Castro', 'I-per'), ('during', 'O'), ('the', 'O'), ('2000', 'B-tim'), ('Ibero-American', 'O'), ('summit', 'O'), ('in', 'O'), ('Panama', 'B-geo'), ('City', 'I-geo'), ('.', 'O')], [('He', 'O'), ('was', 'O'), ('placed', 'O'), ('under', 'O'), ('house', 'O'), ('arrest', 'O'), ('in', 'O'), ('Islamabad', 'B-geo'), (',', 'O'), ('but', 'O'), ('not', 'O'), ('jailed', 'O'), ('because', 'O'), ('he', 'O'), ('is', 'O'), ('considered', 'O'), ('the', 'O'), ('father', 'O'), ('of', 'O'), ('Pakistan', 'B-geo'), (\"'s\", 'O'), ('nuclear', 'O'), ('bomb', 'O'), ('.', 'O')], [('Residents', 'O'), ('in', 'O'), ('the', 'O'), ('former', 'O'), ('Soviet', 'O'), ('republic', 'O'), ('have', 'O'), ('been', 'O'), ('enduring', 'O'), ('freezing', 'O'), ('weather', 'O'), ('with', 'O'), ('limited', 'O'), ('supplies', 'O'), ('after', 'O'), ('explosions', 'O'), ('on', 'O'), ('pipelines', 'O'), ('delivering', 'O'), ('Russian', 'B-gpe'), ('natural', 'O'), ('gas', 'O'), ('.', 'O')], [('The', 'O'), ('violence', 'O'), ('erupted', 'O'), ('Wednesday', 'B-tim'), ('after', 'O'), ('insurgents', 'O'), ('attacked', 'O'), ('Ethiopian', 'B-gpe'), ('tanks', 'O'), ('rolling', 'O'), ('through', 'O'), ('an', 'O'), ('insurgent', 'O'), ('stronghold', 'O'), ('near', 'O'), ('the', 'O'), ('headquarters', 'O'), ('of', 'O'), ('the', 'O'), ('former', 'O'), ('Defense', 'B-org'), ('Ministry', 'I-org'), ('in', 'O'), ('southern', 'O'), ('Mogadishu', 'B-geo'), ('.', 'O')]]\n"
     ]
    }
   ],
   "source": [
    "# print training sentences upto 5\n",
    "print(train_sentences[:5])"
   ]
  },
  {
   "cell_type": "code",
   "execution_count": 24,
   "metadata": {
    "execution": {
     "iopub.execute_input": "2023-09-24T08:59:29.640972Z",
     "iopub.status.busy": "2023-09-24T08:59:29.640567Z",
     "iopub.status.idle": "2023-09-24T08:59:29.651566Z",
     "shell.execute_reply": "2023-09-24T08:59:29.650037Z",
     "shell.execute_reply.started": "2023-09-24T08:59:29.640943Z"
    }
   },
   "outputs": [
    {
     "name": "stdout",
     "output_type": "stream",
     "text": [
      "[[('The', 'O'), ('two', 'O'), ('were', 'O'), ('killed', 'O'), ('in', 'O'), ('separate', 'O'), ('incidents', 'O'), ('as', 'O'), ('they', 'O'), ('walked', 'O'), ('home', 'O'), ('alone', 'O'), ('from', 'O'), ('elementary', 'O'), ('school', 'O'), ('along', 'O'), ('deserted', 'O'), ('roads', 'O'), ('.', 'O')], [('He', 'O'), ('did', 'O'), ('not', 'O'), ('elaborate', 'O'), ('on', 'O'), ('why', 'O'), ('negotiators', 'O'), ('had', 'O'), ('come', 'O'), ('to', 'O'), ('the', 'O'), ('decision', 'O'), ('.', 'O')], [('The', 'O'), ('British', 'B-gpe'), ('Embassy', 'O'), ('has', 'O'), ('advised', 'O'), ('British', 'B-gpe'), ('citizens', 'O'), ('to', 'O'), ('avoid', 'O'), ('travel', 'O'), ('to', 'O'), ('Khartoum', 'B-geo'), ('.', 'O')], [('The', 'O'), ('pardons', 'O'), (',', 'O'), ('announced', 'O'), ('Monday', 'B-tim'), (',', 'O'), ('include', 'O'), ('no', 'O'), ('high-profile', 'O'), ('names', 'O'), ('.', 'O')], [('No', 'O'), ('one', 'O'), ('claimed', 'O'), ('responsibility', 'O'), ('for', 'O'), ('the', 'O'), ('killing', 'O'), ('.', 'O')]]\n"
     ]
    }
   ],
   "source": [
    "# print training sentences upto 5\n",
    "print(test_sentences[:5])"
   ]
  },
  {
   "cell_type": "code",
   "execution_count": 25,
   "metadata": {
    "execution": {
     "iopub.execute_input": "2023-09-24T08:59:31.390596Z",
     "iopub.status.busy": "2023-09-24T08:59:31.390189Z",
     "iopub.status.idle": "2023-09-24T08:59:31.396857Z",
     "shell.execute_reply": "2023-09-24T08:59:31.395024Z",
     "shell.execute_reply.started": "2023-09-24T08:59:31.390567Z"
    }
   },
   "outputs": [],
   "source": [
    "# Define maximum sequence length\n",
    "'''\n",
    "Setting `max_seq_length = 128` is practical as it accommodates typical sentence lengths in the dataset while \n",
    "ensuring efficient BERT tokenization and processing.\n",
    "'''\n",
    "max_seq_length = 128"
   ]
  },
  {
   "cell_type": "code",
   "execution_count": 26,
   "metadata": {
    "execution": {
     "iopub.execute_input": "2023-09-24T08:59:32.570497Z",
     "iopub.status.busy": "2023-09-24T08:59:32.569101Z",
     "iopub.status.idle": "2023-09-24T08:59:32.579738Z",
     "shell.execute_reply": "2023-09-24T08:59:32.578811Z",
     "shell.execute_reply.started": "2023-09-24T08:59:32.570460Z"
    }
   },
   "outputs": [],
   "source": [
    "# Function to pad sequences\n",
    "def prepare_data(sentences, ner_labels, tokenizer, max_seq_length):\n",
    "    input_ids = []\n",
    "    attention_masks = []\n",
    "    label_ids = []\n",
    "\n",
    "    for sentence in sentences:\n",
    "        tokens = []\n",
    "        labels = []\n",
    "        for word, label in sentence:\n",
    "            word_tokens = tokenizer.tokenize(word)\n",
    "            tokens.extend(word_tokens)\n",
    "            labels.extend([label] * len(word_tokens))\n",
    "\n",
    "        # Truncate or pad sequences to the specified max_seq_length\n",
    "        if len(tokens) >= max_seq_length:\n",
    "            tokens = tokens[:max_seq_length]\n",
    "            labels = labels[:max_seq_length]\n",
    "        else:\n",
    "            # Pad sequences with [PAD] token if they are shorter than max_seq_length\n",
    "            padding_length = max_seq_length - len(tokens)\n",
    "            tokens += [tokenizer.pad_token] * padding_length\n",
    "            labels += [ner_labels[0]] * padding_length  # Assuming 'O' is the padding label\n",
    "\n",
    "        # Convert tokens to input IDs and create attention masks\n",
    "        input_id = tokenizer.convert_tokens_to_ids(tokens)\n",
    "        attention_mask = [1] * len(input_id)\n",
    "\n",
    "        # Convert NER labels to label IDs\n",
    "        label_id = [ner_label_to_id[label] for label in labels]\n",
    "\n",
    "        input_ids.append(input_id)\n",
    "        attention_masks.append(attention_mask)\n",
    "        label_ids.append(label_id)\n",
    "\n",
    "    return input_ids, attention_masks, label_ids"
   ]
  },
  {
   "cell_type": "code",
   "execution_count": 27,
   "metadata": {
    "execution": {
     "iopub.execute_input": "2023-09-24T08:59:35.152381Z",
     "iopub.status.busy": "2023-09-24T08:59:35.151125Z",
     "iopub.status.idle": "2023-09-24T08:59:36.478468Z",
     "shell.execute_reply": "2023-09-24T08:59:36.476925Z",
     "shell.execute_reply.started": "2023-09-24T08:59:35.152282Z"
    }
   },
   "outputs": [
    {
     "data": {
      "application/vnd.jupyter.widget-view+json": {
       "model_id": "1d6380fe37264ce8952ecef1007aff29",
       "version_major": 2,
       "version_minor": 0
      },
      "text/plain": [
       "Downloading (…)solve/main/vocab.txt:   0%|          | 0.00/213k [00:00<?, ?B/s]"
      ]
     },
     "metadata": {},
     "output_type": "display_data"
    },
    {
     "data": {
      "application/vnd.jupyter.widget-view+json": {
       "model_id": "055ab8d6c7ed4b228993738ffd585a5c",
       "version_major": 2,
       "version_minor": 0
      },
      "text/plain": [
       "Downloading (…)okenizer_config.json:   0%|          | 0.00/29.0 [00:00<?, ?B/s]"
      ]
     },
     "metadata": {},
     "output_type": "display_data"
    },
    {
     "data": {
      "application/vnd.jupyter.widget-view+json": {
       "model_id": "2342e1d5b92e4019b0cd6788ce3fe232",
       "version_major": 2,
       "version_minor": 0
      },
      "text/plain": [
       "Downloading (…)lve/main/config.json:   0%|          | 0.00/570 [00:00<?, ?B/s]"
      ]
     },
     "metadata": {},
     "output_type": "display_data"
    }
   ],
   "source": [
    "# Tokenize and encode the text using BERT tokenizer\n",
    "tokenizer = BertTokenizer.from_pretrained('bert-base-cased')"
   ]
  },
  {
   "cell_type": "code",
   "execution_count": 28,
   "metadata": {
    "execution": {
     "iopub.execute_input": "2023-09-24T08:59:38.590440Z",
     "iopub.status.busy": "2023-09-24T08:59:38.589952Z",
     "iopub.status.idle": "2023-09-24T08:59:39.282155Z",
     "shell.execute_reply": "2023-09-24T08:59:39.280383Z",
     "shell.execute_reply.started": "2023-09-24T08:59:38.590404Z"
    }
   },
   "outputs": [],
   "source": [
    "# Prepare training and testing data\n",
    "train_input_ids, train_attention_masks, train_label_ids = prepare_data(train_sentences, ner_labels, tokenizer, max_seq_length)\n",
    "test_input_ids, test_attention_masks, test_label_ids = prepare_data(test_sentences, ner_labels, tokenizer, max_seq_length)"
   ]
  },
  {
   "cell_type": "code",
   "execution_count": 29,
   "metadata": {
    "execution": {
     "iopub.execute_input": "2023-09-24T08:59:39.932615Z",
     "iopub.status.busy": "2023-09-24T08:59:39.931986Z",
     "iopub.status.idle": "2023-09-24T08:59:40.009636Z",
     "shell.execute_reply": "2023-09-24T08:59:40.008225Z",
     "shell.execute_reply.started": "2023-09-24T08:59:39.932583Z"
    }
   },
   "outputs": [],
   "source": [
    "# Convert data to PyTorch tensors\n",
    "train_input_ids = torch.tensor(train_input_ids)\n",
    "train_attention_masks = torch.tensor(train_attention_masks)\n",
    "train_label_ids = torch.tensor(train_label_ids)\n",
    "\n",
    "test_input_ids = torch.tensor(test_input_ids)\n",
    "test_attention_masks = torch.tensor(test_attention_masks)\n",
    "test_label_ids = torch.tensor(test_label_ids)"
   ]
  },
  {
   "cell_type": "code",
   "execution_count": 30,
   "metadata": {
    "execution": {
     "iopub.execute_input": "2023-09-24T08:59:41.337966Z",
     "iopub.status.busy": "2023-09-24T08:59:41.337576Z",
     "iopub.status.idle": "2023-09-24T08:59:41.345375Z",
     "shell.execute_reply": "2023-09-24T08:59:41.344007Z",
     "shell.execute_reply.started": "2023-09-24T08:59:41.337937Z"
    }
   },
   "outputs": [],
   "source": [
    "# Create DataLoader for training and testing data\n",
    "batch_size = 32\n",
    "train_data = TensorDataset(train_input_ids, train_attention_masks, train_label_ids)\n",
    "train_sampler = RandomSampler(train_data)\n",
    "train_dataloader = DataLoader(train_data, sampler=train_sampler, batch_size=batch_size)\n",
    "\n",
    "test_data = TensorDataset(test_input_ids, test_attention_masks, test_label_ids)\n",
    "test_sampler = SequentialSampler(test_data)\n",
    "test_dataloader = DataLoader(test_data, sampler=test_sampler, batch_size=batch_size)\n"
   ]
  },
  {
   "cell_type": "code",
   "execution_count": 31,
   "metadata": {
    "execution": {
     "iopub.execute_input": "2023-09-24T08:59:46.172726Z",
     "iopub.status.busy": "2023-09-24T08:59:46.172108Z",
     "iopub.status.idle": "2023-09-24T08:59:50.380929Z",
     "shell.execute_reply": "2023-09-24T08:59:50.379766Z",
     "shell.execute_reply.started": "2023-09-24T08:59:46.172696Z"
    }
   },
   "outputs": [
    {
     "data": {
      "application/vnd.jupyter.widget-view+json": {
       "model_id": "571c89f8a3eb44708e6b8642871423fd",
       "version_major": 2,
       "version_minor": 0
      },
      "text/plain": [
       "Downloading model.safetensors:   0%|          | 0.00/436M [00:00<?, ?B/s]"
      ]
     },
     "metadata": {},
     "output_type": "display_data"
    },
    {
     "name": "stderr",
     "output_type": "stream",
     "text": [
      "Some weights of BertForTokenClassification were not initialized from the model checkpoint at bert-base-cased and are newly initialized: ['classifier.bias', 'classifier.weight']\n",
      "You should probably TRAIN this model on a down-stream task to be able to use it for predictions and inference.\n"
     ]
    }
   ],
   "source": [
    "# Initialize BERT model for token classification\n",
    "\n",
    "# We opt for the cased variant due to its optimal compatibility with Named Entity Recognition (NER) tasks.\n",
    "model = BertForTokenClassification.from_pretrained('bert-base-cased', num_labels=len(ner_labels))\n",
    "\n",
    "# Move the model to GPU if available\n",
    "device = torch.device(\"cuda\" if torch.cuda.is_available() else \"cpu\")\n",
    "model = model.to(device)"
   ]
  },
  {
   "cell_type": "code",
   "execution_count": 32,
   "metadata": {
    "execution": {
     "iopub.execute_input": "2023-09-24T08:59:50.618509Z",
     "iopub.status.busy": "2023-09-24T08:59:50.618108Z",
     "iopub.status.idle": "2023-09-24T09:02:23.059282Z",
     "shell.execute_reply": "2023-09-24T09:02:23.057185Z",
     "shell.execute_reply.started": "2023-09-24T08:59:50.618480Z"
    }
   },
   "outputs": [
    {
     "name": "stdout",
     "output_type": "stream",
     "text": [
      "Epoch 1/20: Average Loss: 0.7905, Train Accuracy: 79.65\n",
      "Epoch 2/20: Average Loss: 0.2138, Train Accuracy: 95.96\n",
      "Epoch 3/20: Average Loss: 0.1833, Train Accuracy: 96.16\n",
      "Epoch 4/20: Average Loss: 0.1597, Train Accuracy: 96.22\n",
      "Epoch 5/20: Average Loss: 0.1367, Train Accuracy: 96.50\n",
      "Epoch 6/20: Average Loss: 0.1190, Train Accuracy: 97.04\n",
      "Epoch 7/20: Average Loss: 0.1031, Train Accuracy: 97.43\n",
      "Epoch 8/20: Average Loss: 0.0873, Train Accuracy: 97.63\n",
      "Epoch 9/20: Average Loss: 0.0769, Train Accuracy: 97.79\n",
      "Epoch 10/20: Average Loss: 0.0695, Train Accuracy: 98.07\n",
      "Epoch 11/20: Average Loss: 0.0623, Train Accuracy: 98.36\n",
      "Epoch 12/20: Average Loss: 0.0556, Train Accuracy: 98.62\n",
      "Epoch 13/20: Average Loss: 0.0464, Train Accuracy: 98.74\n",
      "Epoch 14/20: Average Loss: 0.0436, Train Accuracy: 98.86\n",
      "Epoch 15/20: Average Loss: 0.0377, Train Accuracy: 99.01\n",
      "Epoch 16/20: Average Loss: 0.0345, Train Accuracy: 99.03\n",
      "Epoch 17/20: Average Loss: 0.0312, Train Accuracy: 99.15\n",
      "Epoch 18/20: Average Loss: 0.0279, Train Accuracy: 99.24\n",
      "Epoch 19/20: Average Loss: 0.0259, Train Accuracy: 99.30\n",
      "Epoch 20/20: Average Loss: 0.0245, Train Accuracy: 99.35\n"
     ]
    }
   ],
   "source": [
    "# Define optimizer and learning rate\n",
    "'''\n",
    "We chose AdamW optimizer because it combines the benefits of the Adam optimizer with weight decay, \n",
    "helping prevent overfitting.\n",
    "\n",
    "Learning Rate (lr): We used learning rate of 2e-5 to avoid overshooting optimal weights.\n",
    "'''\n",
    "optimizer = AdamW(model.parameters(), lr=2e-5)\n",
    "\n",
    "# Training loop\n",
    "num_epochs = 20\n",
    "\n",
    "train_loss_history_bert = []\n",
    "train_accuracy_history_bert = []\n",
    "\n",
    "for epoch in range(num_epochs):\n",
    "    model.train()\n",
    "    total_loss = 0\n",
    "    correct_predictions = 0\n",
    "    total_samples = 0\n",
    "\n",
    "    for batch in train_dataloader:\n",
    "        input_ids, attention_mask, label_ids = batch\n",
    "        input_ids = input_ids.to(device)\n",
    "        attention_mask = attention_mask.to(device)\n",
    "        label_ids = label_ids.to(device)\n",
    "\n",
    "        optimizer.zero_grad()\n",
    "        outputs = model(input_ids, attention_mask=attention_mask, labels=label_ids)\n",
    "        loss = outputs.loss\n",
    "        loss.backward()\n",
    "        optimizer.step()\n",
    "        total_loss += loss.item()\n",
    "\n",
    "        # Calculate accuracy for this batch\n",
    "        predicted = torch.argmax(outputs.logits, dim=2)\n",
    "\n",
    "        # Flatten the predicted and label_ids tensors to handle variable-length sequences\n",
    "        predicted = predicted.view(-1)\n",
    "        label_ids = label_ids.view(-1)\n",
    "\n",
    "        correct_predictions += (predicted == label_ids).sum().item()\n",
    "        total_samples += label_ids.numel()  # Total number of tokens in this batch\n",
    "\n",
    "    # Calculate train accuracy for the epoch\n",
    "    train_accuracy = correct_predictions / total_samples\n",
    "\n",
    "    # Calculate average train loss for the epoch\n",
    "    average_train_loss = total_loss / len(train_dataloader)\n",
    "\n",
    "    # Append train loss and accuracy to their respective lists\n",
    "    train_loss_history_bert.append(average_train_loss)\n",
    "    train_accuracy_history_bert.append(train_accuracy)\n",
    "\n",
    "    # Print epoch-level training loss and accuracy\n",
    "    print(f\"Epoch {epoch + 1}/{num_epochs}: Average Loss: {average_train_loss:.4f}, Train Accuracy: {train_accuracy * 100:.2f}%\")\n",
    "\n"
   ]
  },
  {
   "cell_type": "markdown",
   "metadata": {},
   "source": [
    "### Evaluation\n",
    "\n",
    "1. **Model Evaluation Mode**: `model.eval()` sets the model for evaluation, preventing weight updates during testing.\n",
    "\n",
    "2. **Metric Tracking**: Lists (`test_loss_history_bert` and `test_accuracy_history_bert`) are used to track test loss and accuracy.\n",
    "\n",
    "3. **Batch Iteration**: Batches from `test_dataloader` are processed.\n",
    "\n",
    "4. **Device Placement**: Data and the model are moved to the GPU if available.\n",
    "\n",
    "5. **Forward Pass**: The model makes predictions on test data without computing gradients (`torch.no_grad()`).\n",
    "\n",
    "6. **Loss Calculation**: Loss measures model performance by comparing predictions to true labels.\n",
    "\n",
    "7. **Accuracy Calculation**: Accuracy is computed by comparing predicted and true labels.\n",
    "\n",
    "8. **Flattening Sequences**: Predicted and true label tensors are flattened for variable-length sequences.\n",
    "\n",
    "9. **Metric Appending**: Test loss and accuracy for each batch are added to tracking lists.\n",
    "\n",
    "10. **Label Conversion**: Label IDs are converted to human-readable labels for analysis and reporting."
   ]
  },
  {
   "cell_type": "code",
   "execution_count": 33,
   "metadata": {
    "execution": {
     "iopub.execute_input": "2023-09-24T08:31:40.986533Z",
     "iopub.status.busy": "2023-09-24T08:31:40.986151Z",
     "iopub.status.idle": "2023-09-24T08:31:40.993171Z",
     "shell.execute_reply": "2023-09-24T08:31:40.992201Z",
     "shell.execute_reply.started": "2023-09-24T08:31:40.986502Z"
    }
   },
   "outputs": [
    {
     "name": "stdout",
     "output_type": "stream",
     "text": [
      "\n"
     ]
    }
   ],
   "source": [
    "# Evaluation\n",
    "model.eval()\n",
    "test_loss_history_bert = []\n",
    "test_accuracy_history_bert = []\n",
    "all_true_labels = []\n",
    "all_pred_labels = []\n",
    "\n",
    "print(\"Testing Started on test data\")\n",
    "for batch in test_dataloader:\n",
    "    input_ids, attention_mask, label_ids = batch\n",
    "    input_ids = input_ids.to(device)\n",
    "    attention_mask = attention_mask.to(device)\n",
    "    label_ids = label_ids.to(device)\n",
    "    \n",
    "    with torch.no_grad():\n",
    "        outputs = model(input_ids, attention_mask=attention_mask, labels=label_ids)\n",
    "        loss = outputs.loss\n",
    "        logits = outputs.logits   \n",
    "\n",
    "    # Calculate accuracy for this batch\n",
    "    predicted = torch.argmax(logits, dim=2)\n",
    "\n",
    "    # Flatten the predicted and label_ids tensors to handle variable-length sequences\n",
    "    predicted = predicted.view(-1)\n",
    "    label_ids = label_ids.view(-1)\n",
    "\n",
    "    correct_predictions = (predicted == label_ids).sum().item()\n",
    "    total_samples = label_ids.numel()  # Total number of tokens in this batch\n",
    "\n",
    "    # Calculate test accuracy for the batch\n",
    "    test_accuracy = correct_predictions / total_samples\n",
    "\n",
    "    # Append test loss and accuracy to their respective lists\n",
    "    test_loss_history_bert.append(loss.item())\n",
    "    test_accuracy_history_bert.append(test_accuracy)\n",
    "\n",
    "    # Convert label_ids to a NumPy array\n",
    "    label_ids = label_ids.cpu().numpy()\n",
    "\n",
    "    for i in (range(len(label_ids))):\n",
    "        true_labels = [ner_labels[id] for id in label_ids]\n",
    "        pred_labels = [ner_labels[id] for id in predicted]\n",
    "        all_true_labels.extend(true_labels)\n",
    "        all_pred_labels.extend(pred_labels)"
   ]
  },
  {
   "cell_type": "code",
   "execution_count": 34,
   "metadata": {},
   "outputs": [
    {
     "name": "stdout",
     "output_type": "stream",
     "text": [
      "Test Accuracy:  99.0234375 %\n"
     ]
    }
   ],
   "source": [
    "print(\"Test Accuracy: \", test_accuracy_history_bert[0]*100,\"%\")"
   ]
  },
  {
   "cell_type": "code",
   "execution_count": 35,
   "metadata": {},
   "outputs": [
    {
     "name": "stdout",
     "output_type": "stream",
     "text": [
      "Classification Report Bert\n",
      "              precision    recall  f1-score   support\n",
      "\n",
      "       B-nat       1.00      1.00      1.00      49300\n",
      "       I-eve       0.00      0.00      0.00          0\n",
      "       B-org       0.92      0.57      0.71       3045\n",
      "       I-art       0.00      0.00      0.00          0\n",
      "       B-art       0.67      0.67      0.67        870\n",
      "       B-gpe       0.62      1.00      0.77       2900\n",
      "       B-eve       0.71      0.00      0.00          0\n",
      "       B-geo       0.81      0.77      0.74       3770\n",
      "       I-org       0.77      0.81      0.81        2320\n",
      "       B-per       0.80      0.50      0.61        2900\n",
      "       I-per       0.00      0.97      0.88        4785\n",
      "       I-tim       0.00      0.00      0.00         145\n",
      "       I-geo       0.00      0.00      0.00         580\n",
      "       I-gpe       0.00      0.00      0.00           0\n",
      "       I-nat       0.00      0.00      0.00           0\n",
      "           O       1.00      0.99      1.00      780101\n",
      "       B-tim       0.91      0.91      0.91        1595\n",
      "\n",
      "   micro avg       0.99      0.99      0.99      593920\n",
      "   macro avg       0.48      0.48      0.48      593920\n",
      "weighted avg       0.99      0.99      0.99      593920\n",
      "\n"
     ]
    }
   ],
   "source": [
    "# Generate classification report\n",
    "report_bert = classification_report(all_true_labels, all_pred_labels, labels=ner_labels)\n",
    "print(\"Classification Report of Bert\")\n",
    "print(report_bert)\n",
    "\n",
    "report_bert = classification_report(all_true_labels, all_pred_labels, labels=ner_labels, output_dict=True)"
   ]
  },
  {
   "cell_type": "markdown",
   "metadata": {},
   "source": [
    "# Section 3: Approach using FastText"
   ]
  },
  {
   "cell_type": "markdown",
   "metadata": {},
   "source": [
    "1. **input_dim**: Determines the size of input features, typically word embeddings.\n",
    "\n",
    "2. **hidden_dim**: Sets the size of hidden states, influencing model capacity.\n",
    "\n",
    "3. **output_dim**: Defines the output layer's dimension for NER tags.\n",
    "\n",
    "4. **n_layers**: Controls the number of LSTM layers for hierarchical learning.\n",
    "\n",
    "5. **bidirectional**: When `True`, enables bidirectional processing for better context.\n",
    "\n",
    "6. **dropout**: Regularizes the model by randomly dropping some units during training, preventing overfitting."
   ]
  },
  {
   "cell_type": "code",
   "execution_count": 36,
   "metadata": {},
   "outputs": [],
   "source": [
    "# Define the LSTM-based NER model\n",
    "class LSTMNER(nn.Module):\n",
    "    def __init__(self, input_dim, hidden_dim, output_dim, n_layers, bidirectional, dropout):\n",
    "        super(LSTMNER, self).__init__()\n",
    "\n",
    "        self.embedding_dim = input_dim\n",
    "        self.hidden_dim = hidden_dim\n",
    "        self.output_dim = output_dim\n",
    "        self.n_layers = n_layers\n",
    "        self.bidirectional = bidirectional\n",
    "\n",
    "        self.lstm = nn.LSTM(\n",
    "            input_dim,\n",
    "            hidden_dim,\n",
    "            num_layers=n_layers,\n",
    "            bidirectional=bidirectional,\n",
    "            dropout=dropout,\n",
    "            batch_first=True,\n",
    "        )\n",
    "        self.fc = nn.Linear(hidden_dim * 2 if bidirectional else hidden_dim, output_dim)\n",
    "        self.dropout = nn.Dropout(dropout)\n",
    "\n",
    "    def forward(self, text):\n",
    "        output, (hidden, cell) = self.lstm(text)\n",
    "        output = self.dropout(output)\n",
    "        predictions = self.fc(output)\n",
    "        return predictions"
   ]
  },
  {
   "cell_type": "code",
   "execution_count": 37,
   "metadata": {},
   "outputs": [],
   "source": [
    "# Convert sentences to word indices and label indices\n",
    "def sentences_to_indices(sentences, label_to_index, word_to_key):\n",
    "    word_indices = []\n",
    "    label_indices = []\n",
    "    for sentence in sentences:\n",
    "        sentence_word_indices = [] \n",
    "        for word, _ in sentence:\n",
    "            if str(word) in word_to_key:\n",
    "                sentence_word_indices.append(word_to_key.index(str(word)))\n",
    "            else:\n",
    "                # Handle out-of-vocabulary words \n",
    "                sentence_word_indices.append(-1)  \n",
    "        word_indices.append(sentence_word_indices)\n",
    "        label_indices.append([label_to_index[label] for _, label in sentence])\n",
    "    return word_indices, label_indices\n"
   ]
  },
  {
   "cell_type": "code",
   "execution_count": 38,
   "metadata": {},
   "outputs": [],
   "source": [
    "# Convert words to word vectors\n",
    "def words_to_vectors(words, model):\n",
    "    return [model.wv[word] if word in model.wv else np.zeros(model.vector_size) for word in words]"
   ]
  },
  {
   "cell_type": "code",
   "execution_count": 39,
   "metadata": {},
   "outputs": [],
   "source": [
    "# function to handle padding\n",
    "def handle_padding(word_vectors):\n",
    "    # Convert the list of tensors to a list of sequences\n",
    "    train_word_sequences = [torch.tensor(sentence) for sentence in word_vectors]\n",
    "\n",
    "    # Pad sequences to have the same length \n",
    "    train_word_padded = pad_sequence(train_word_sequences, batch_first=True, padding_value=0)\n",
    "   \n",
    "    return train_word_padded"
   ]
  },
  {
   "cell_type": "code",
   "execution_count": 40,
   "metadata": {
    "execution": {
     "iopub.execute_input": "2023-09-24T08:51:49.084138Z",
     "iopub.status.busy": "2023-09-24T08:51:49.083629Z",
     "iopub.status.idle": "2023-09-24T08:51:50.598538Z",
     "shell.execute_reply": "2023-09-24T08:51:50.597616Z",
     "shell.execute_reply.started": "2023-09-24T08:51:49.084100Z"
    }
   },
   "outputs": [],
   "source": [
    "# Load spaCy language model for tokenization\n",
    "nlp = spacy.load(\"en_core_web_sm\")"
   ]
  },
  {
   "cell_type": "code",
   "execution_count": 41,
   "metadata": {
    "execution": {
     "iopub.execute_input": "2023-09-24T08:51:54.470239Z",
     "iopub.status.busy": "2023-09-24T08:51:54.469811Z",
     "iopub.status.idle": "2023-09-24T08:53:01.942014Z",
     "shell.execute_reply": "2023-09-24T08:53:01.940945Z",
     "shell.execute_reply.started": "2023-09-24T08:51:54.470207Z"
    }
   },
   "outputs": [],
   "source": [
    "# Tokenize sentences and prepare data\n",
    "sentences = []\n",
    "current_sentence = []\n",
    "last_sentence = -1\n",
    "for _, row in data.iterrows():\n",
    "    word = row['Word']\n",
    "    tag = row['Tag']\n",
    "    sentence = row['Sentence #']\n",
    "    \n",
    "    if last_sentence == -1: \n",
    "        last_sentence = sentence\n",
    "        \n",
    "    if last_sentence != sentence:\n",
    "        \n",
    "        sentences.append(current_sentence)\n",
    "        current_sentence = []\n",
    "        last_sentence = sentence\n",
    "        \n",
    "    token = nlp(word)\n",
    "    current_sentence.extend([(token, tag)])\n",
    "    \n",
    "if current_sentence:\n",
    "    sentences.append(current_sentence)\n",
    "    current_sentence = []"
   ]
  },
  {
   "cell_type": "code",
   "execution_count": 42,
   "metadata": {
    "execution": {
     "iopub.execute_input": "2023-09-24T08:53:01.944285Z",
     "iopub.status.busy": "2023-09-24T08:53:01.943897Z",
     "iopub.status.idle": "2023-09-24T08:53:01.951973Z",
     "shell.execute_reply": "2023-09-24T08:53:01.950351Z",
     "shell.execute_reply.started": "2023-09-24T08:53:01.944252Z"
    }
   },
   "outputs": [],
   "source": [
    "# Split the data into training and testing sets\n",
    "train_sentences, test_sentences = train_test_split(sentences, test_size=0.2, random_state=42)"
   ]
  },
  {
   "cell_type": "code",
   "execution_count": 43,
   "metadata": {
    "execution": {
     "iopub.execute_input": "2023-09-24T08:53:01.954000Z",
     "iopub.status.busy": "2023-09-24T08:53:01.953613Z",
     "iopub.status.idle": "2023-09-24T08:55:50.902569Z",
     "shell.execute_reply": "2023-09-24T08:55:50.901023Z",
     "shell.execute_reply.started": "2023-09-24T08:53:01.953968Z"
    }
   },
   "outputs": [],
   "source": [
    "# Load pre-trained FastText embeddings\n",
    "fasttext_model = FastText.load_fasttext_format(fastText_model_path)"
   ]
  },
  {
   "cell_type": "code",
   "execution_count": 44,
   "metadata": {
    "execution": {
     "iopub.execute_input": "2023-09-24T08:55:50.906124Z",
     "iopub.status.busy": "2023-09-24T08:55:50.905542Z",
     "iopub.status.idle": "2023-09-24T08:55:50.913251Z",
     "shell.execute_reply": "2023-09-24T08:55:50.911971Z",
     "shell.execute_reply.started": "2023-09-24T08:55:50.906085Z"
    }
   },
   "outputs": [],
   "source": [
    "# Define a label-to-index mapping\n",
    "ner_labels = list(set(data[\"Tag\"].values))\n",
    "label_to_index = {label: idx for idx, label in enumerate(ner_labels)}"
   ]
  },
  {
   "cell_type": "code",
   "execution_count": 45,
   "metadata": {
    "execution": {
     "iopub.execute_input": "2023-09-24T08:55:51.019337Z",
     "iopub.status.busy": "2023-09-24T08:55:51.018464Z",
     "iopub.status.idle": "2023-09-24T08:55:56.180656Z",
     "shell.execute_reply": "2023-09-24T08:55:56.179371Z",
     "shell.execute_reply.started": "2023-09-24T08:55:51.019282Z"
    }
   },
   "outputs": [],
   "source": [
    "# Convert sentences to word vectors and label indices\n",
    "train_word_indices, train_label_indices = sentences_to_indices(train_sentences, label_to_index, fasttext_model.wv.index_to_key)\n",
    "test_word_indices, test_label_indices = sentences_to_indices(test_sentences, label_to_index, fasttext_model.wv.index_to_key)\n",
    "\n",
    "train_word_vectors = [words_to_vectors(words, fasttext_model) for words in train_word_indices]\n",
    "test_word_vectors = [words_to_vectors(words, fasttext_model) for words in test_word_indices]"
   ]
  },
  {
   "cell_type": "code",
   "execution_count": 46,
   "metadata": {
    "execution": {
     "iopub.execute_input": "2023-09-24T08:55:56.193654Z",
     "iopub.status.busy": "2023-09-24T08:55:56.191979Z",
     "iopub.status.idle": "2023-09-24T08:55:57.220050Z",
     "shell.execute_reply": "2023-09-24T08:55:57.218593Z",
     "shell.execute_reply.started": "2023-09-24T08:55:56.193607Z"
    }
   },
   "outputs": [],
   "source": [
    "train_word_vectors = handle_padding(train_word_vectors)\n",
    "train_label_indices = handle_padding(train_label_indices)\n",
    "\n",
    "test_word_vectors = handle_padding(test_word_vectors)\n",
    "test_label_indices = handle_padding(test_label_indices)"
   ]
  },
  {
   "cell_type": "code",
   "execution_count": 47,
   "metadata": {
    "execution": {
     "iopub.execute_input": "2023-09-24T08:55:57.224354Z",
     "iopub.status.busy": "2023-09-24T08:55:57.223920Z",
     "iopub.status.idle": "2023-09-24T08:55:57.249289Z",
     "shell.execute_reply": "2023-09-24T08:55:57.248103Z",
     "shell.execute_reply.started": "2023-09-24T08:55:57.224285Z"
    }
   },
   "outputs": [],
   "source": [
    "# Convert data to PyTorch tensors\n",
    "train_word_vectors = torch.tensor(train_word_vectors, dtype=torch.float32)\n",
    "train_label_indices = torch.tensor(train_label_indices, dtype=torch.long)\n",
    "test_word_vectors = torch.tensor(test_word_vectors, dtype=torch.float32)\n",
    "test_label_indices = torch.tensor(test_label_indices, dtype=torch.long)"
   ]
  },
  {
   "cell_type": "code",
   "execution_count": 48,
   "metadata": {
    "execution": {
     "iopub.execute_input": "2023-09-24T08:55:57.251391Z",
     "iopub.status.busy": "2023-09-24T08:55:57.250911Z",
     "iopub.status.idle": "2023-09-24T08:55:57.263064Z",
     "shell.execute_reply": "2023-09-24T08:55:57.261160Z",
     "shell.execute_reply.started": "2023-09-24T08:55:57.251349Z"
    }
   },
   "outputs": [],
   "source": [
    "# Define DataLoader for training and testing data\n",
    "batch_size = 32\n",
    "train_data = TensorDataset(train_word_vectors, train_label_indices)\n",
    "train_loader = DataLoader(train_data, batch_size=batch_size, shuffle=True)\n",
    "test_data = TensorDataset(test_word_vectors, test_label_indices)\n",
    "test_loader = DataLoader(test_data, batch_size=batch_size)"
   ]
  },
  {
   "cell_type": "code",
   "execution_count": 49,
   "metadata": {
    "execution": {
     "iopub.execute_input": "2023-09-24T08:55:57.282104Z",
     "iopub.status.busy": "2023-09-24T08:55:57.281696Z",
     "iopub.status.idle": "2023-09-24T08:55:57.302604Z",
     "shell.execute_reply": "2023-09-24T08:55:57.301515Z",
     "shell.execute_reply.started": "2023-09-24T08:55:57.282071Z"
    }
   },
   "outputs": [],
   "source": [
    "# Initialize the NER model\n",
    "input_dim = fasttext_model.vector_size\n",
    "hidden_dim = 128  \n",
    "output_dim = len(ner_labels)\n",
    "n_layers = 2\n",
    "bidirectional = True\n",
    "dropout = 0.5\n"
   ]
  },
  {
   "cell_type": "code",
   "execution_count": 50,
   "metadata": {
    "execution": {
     "iopub.execute_input": "2023-09-24T08:55:57.305440Z",
     "iopub.status.busy": "2023-09-24T08:55:57.304095Z",
     "iopub.status.idle": "2023-09-24T08:55:57.339950Z",
     "shell.execute_reply": "2023-09-24T08:55:57.338539Z",
     "shell.execute_reply.started": "2023-09-24T08:55:57.305394Z"
    }
   },
   "outputs": [],
   "source": [
    "model = LSTMNER(input_dim, hidden_dim, output_dim, n_layers, bidirectional, dropout)"
   ]
  },
  {
   "cell_type": "markdown",
   "metadata": {},
   "source": [
    "1. **Loss Function (`nn.CrossEntropyLoss()`)**: Ideal for multi-class classification tasks, it measures the dissimilarity between predicted and actual class distributions.\n",
    "\n",
    "2. **Optimizer (`optim.Adam()`)**: Adam optimizer adapts learning rates for faster convergence, with an initial learning rate (`lr`) of 0.001.\n",
    "\n",
    "3. **GPU Usage**: If available, the code utilizes GPU acceleration for faster training.\n",
    "\n",
    "4. **Training Loop**: Runs for 20 epochs, allowing the model to learn iteratively from the data.\n",
    "\n",
    "5. **Batch Processing**: Enhances memory efficiency and parallel computation.\n",
    "\n",
    "6. **Accuracy Tracking**: `correct_predictions` and `total_samples` count correct predictions and total samples to calculate batch and epoch-level accuracy.\n",
    "\n",
    "7. **Learning Rate**: Initial learning rate of 0.001 can be fine-tuned based on training progress.\n",
    "\n",
    "8. **Model Optimization**: Handles gradient computation and weight updates during optimization.\n",
    "\n",
    "9. **Loss Tracking**: `running_loss` accumulates batch losses for later calculation of the average epoch loss."
   ]
  },
  {
   "cell_type": "code",
   "execution_count": 51,
   "metadata": {
    "execution": {
     "iopub.execute_input": "2023-09-24T08:55:57.341614Z",
     "iopub.status.busy": "2023-09-24T08:55:57.341286Z",
     "iopub.status.idle": "2023-09-24T08:56:26.386605Z",
     "shell.execute_reply": "2023-09-24T08:56:26.385396Z",
     "shell.execute_reply.started": "2023-09-24T08:55:57.341587Z"
    }
   },
   "outputs": [
    {
     "name": "stdout",
     "output_type": "stream",
     "text": [
      "Epoch [1/20] Loss: 2.1536 Train Accuracy: 64.97%\n",
      "Epoch [2/20] Loss: 0.8152 Train Accuracy: 82.10%\n",
      "Epoch [3/20] Loss: 0.5483 Train Accuracy: 88.49%\n",
      "Epoch [4/20] Loss: 0.4936 Train Accuracy: 89.68%\n",
      "Epoch [5/20] Loss: 0.4740 Train Accuracy: 89.94%\n",
      "Epoch [6/20] Loss: 0.4723 Train Accuracy: 90.25%\n",
      "Epoch [7/20] Loss: 0.4630 Train Accuracy: 90.45%\n",
      "Epoch [8/20] Loss: 0.4666 Train Accuracy: 90.50%\n",
      "Epoch [9/20] Loss: 0.4667 Train Accuracy: 90.65%\n",
      "Epoch [10/20] Loss: 0.4523 Train Accuracy: 90.76%\n",
      "Epoch [11/20] Loss: 0.4448 Train Accuracy: 90.89%\n",
      "Epoch [12/20] Loss: 0.4433 Train Accuracy: 90.97%\n",
      "Epoch [13/20] Loss: 0.4274 Train Accuracy: 91.02%\n",
      "Epoch [14/20] Loss: 0.4311 Train Accuracy: 90.97%\n",
      "Epoch [15/20] Loss: 0.4257 Train Accuracy: 91.05%\n",
      "Epoch [16/20] Loss: 0.4240 Train Accuracy: 91.12%\n",
      "Epoch [17/20] Loss: 0.4130 Train Accuracy: 91.13%\n",
      "Epoch [18/20] Loss: 0.4212 Train Accuracy: 91.17%\n",
      "Epoch [19/20] Loss: 0.4051 Train Accuracy: 91.18%\n",
      "Epoch [20/20] Loss: 0.3961 Train Accuracy: 91.13%\n"
     ]
    }
   ],
   "source": [
    "# Define loss function and optimizer\n",
    "criterion = nn.CrossEntropyLoss()\n",
    "optimizer = optim.Adam(model.parameters(), lr=0.001)\n",
    "\n",
    "# Move the model to GPU if available\n",
    "device = torch.device(\"cuda\" if torch.cuda.is_available() else \"cpu\")\n",
    "model = model.to(device)\n",
    "\n",
    "train_loss_history_fastText = []\n",
    "train_acc_history_fastText = []\n",
    "correct_predictions = 0\n",
    "total_samples = 0\n",
    "\n",
    "# Training loop\n",
    "num_epochs = 20\n",
    "for epoch in range(num_epochs):\n",
    "    model.train()\n",
    "    running_loss = 0.0\n",
    "    correct_predictions = 0\n",
    "    total_samples = 0\n",
    "    \n",
    "    for word_vectors, labels in train_loader:\n",
    "        optimizer.zero_grad()\n",
    "        word_vectors = word_vectors.to(device)\n",
    "        labels = labels.to(device)\n",
    "        outputs = model(word_vectors)\n",
    "        outputs = outputs.view(-1, outputs.shape[-1])\n",
    "        labels = labels.view(-1)\n",
    "        loss = criterion(outputs, labels)\n",
    "        loss.backward()\n",
    "        optimizer.step()\n",
    "        running_loss += loss.item()\n",
    "        \n",
    "        # Calculate accuracy for this batch\n",
    "        _, predicted = torch.max(outputs, 1)\n",
    "        correct_predictions += (predicted == labels).sum().item()\n",
    "        total_samples += labels.size(0)  # Total number of samples in this batch\n",
    "    \n",
    "    # Calculate train accuracy for the epoch\n",
    "    train_accuracy = correct_predictions / total_samples\n",
    "    \n",
    "    # Calculate average train loss for the epoch\n",
    "    average_train_loss = running_loss / len(train_loader)\n",
    "    \n",
    "    # Print epoch-level training loss and accuracy\n",
    "    print(f\"Epoch [{epoch + 1}/{num_epochs}] Loss: {average_train_loss:.4f} Train Accuracy: {train_accuracy * 100:.2f}%\")\n",
    "    \n",
    "    train_loss_history_fastText.append(running_loss)\n",
    "    train_acc_history_fastText.append(train_accuracy)\n"
   ]
  },
  {
   "cell_type": "markdown",
   "metadata": {},
   "source": [
    "- **Loss Function**: `nn.CrossEntropyLoss()` for classification tasks.\n",
    "- **Optimizer**: `optim.Adam()` for adaptive learning rates.\n",
    "- **GPU Usage**: Utilizes GPU if available for faster training.\n",
    "- **Training Loop**: Runs for 20 epochs, iteratively improving the model.\n",
    "- **Batch Processing**: Enhances memory efficiency.\n",
    "- **Accuracy Tracking**: Monitors accuracy per batch and epoch.\n",
    "- **Learning Rate**: Initial rate of 0.001, adjustable.\n",
    "- **Model Optimization**: Handles gradients and weights.\n",
    "- **Loss Tracking**: Accumulates batch losses for averaging."
   ]
  },
  {
   "cell_type": "code",
   "execution_count": 52,
   "metadata": {
    "execution": {
     "iopub.execute_input": "2023-09-24T08:56:26.389015Z",
     "iopub.status.busy": "2023-09-24T08:56:26.388578Z",
     "iopub.status.idle": "2023-09-24T08:56:26.516561Z",
     "shell.execute_reply": "2023-09-24T08:56:26.515374Z",
     "shell.execute_reply.started": "2023-09-24T08:56:26.388974Z"
    }
   },
   "outputs": [
    {
     "name": "stdout",
     "output_type": "stream",
     "text": [
      "Test Accuracy: 91.24%\n"
     ]
    }
   ],
   "source": [
    "# Evaluate the model\n",
    "model.eval()\n",
    "all_true_labels = []\n",
    "all_pred_labels = []\n",
    "test_loss = 0.0  # Initialize the testing loss\n",
    "correct_predictions = 0\n",
    "total_samples = 0\n",
    "\n",
    "with torch.no_grad():\n",
    "    for word_vectors, labels in test_loader:\n",
    "        word_vectors = word_vectors.to(device)\n",
    "        labels = labels.to(device)\n",
    "        outputs = model(word_vectors)\n",
    "        outputs = outputs.view(-1, outputs.shape[-1])\n",
    "        labels = labels.view(-1)\n",
    "        _, predicted = torch.max(outputs, 1)\n",
    "        all_true_labels.extend(labels.cpu().numpy())\n",
    "        all_pred_labels.extend(predicted.cpu().numpy())\n",
    "        \n",
    "        # Calculate loss for this batch\n",
    "        loss = criterion(outputs, labels)\n",
    "        test_loss += loss.item()\n",
    "        \n",
    "        # Calculate accuracy for this batch\n",
    "        correct_predictions += (predicted == labels).sum().item()\n",
    "        total_samples += labels.size(0)  # Total number of samples in this batch\n",
    "\n",
    "# Calculate average testing loss\n",
    "average_test_loss_faxtText = test_loss / len(test_loader)\n",
    "\n",
    "# Calculate test accuracy\n",
    "test_accuracy_fastText = correct_predictions / total_samples\n",
    "\n",
    "# Print testing loss and accuracy\n",
    "print(f\"Test Accuracy: {test_accuracy_fastText * 100:.2f}%\")"
   ]
  },
  {
   "cell_type": "code",
   "execution_count": 53,
   "metadata": {
    "execution": {
     "iopub.execute_input": "2023-09-24T08:56:26.518877Z",
     "iopub.status.busy": "2023-09-24T08:56:26.518434Z",
     "iopub.status.idle": "2023-09-24T08:56:26.527658Z",
     "shell.execute_reply": "2023-09-24T08:56:26.526303Z",
     "shell.execute_reply.started": "2023-09-24T08:56:26.518837Z"
    }
   },
   "outputs": [],
   "source": [
    "# Convert label indices back to entity tags\n",
    "index_to_label = {idx: label for label, idx in label_to_index.items()}\n",
    "true_labels = [index_to_label[idx] for idx in all_true_labels]\n",
    "pred_labels = [index_to_label[idx] for idx in all_pred_labels]"
   ]
  },
  {
   "cell_type": "code",
   "execution_count": 54,
   "metadata": {
    "execution": {
     "iopub.execute_input": "2023-09-24T08:57:06.913062Z",
     "iopub.status.busy": "2023-09-24T08:57:06.912604Z",
     "iopub.status.idle": "2023-09-24T08:57:07.027598Z",
     "shell.execute_reply": "2023-09-24T08:57:07.026154Z",
     "shell.execute_reply.started": "2023-09-24T08:57:06.913030Z"
    }
   },
   "outputs": [
    {
     "name": "stdout",
     "output_type": "stream",
     "text": [
      "Classification Report FastText\n",
      "              precision    recall  f1-score   support\n",
      "\n",
      "       I-org       1.00      0.98      0.99      1292\n",
      "       I-tim       0.00      0.00      0.00         0\n",
      "       B-nat       0.00      0.00      0.00         0\n",
      "       B-org       0.00      0.00      0.00        37\n",
      "       I-nat       0.00      0.00      0.00         0\n",
      "       I-geo       0.00      0.00      0.00         4\n",
      "       B-gpe       0.00      0.00      0.00        53\n",
      "       I-eve       0.00      0.00      0.00         4\n",
      "       B-tim       0.00      0.00      0.00        27\n",
      "           O       0.86      1.00      0.92      1678\n",
      "       I-per       0.00      0.00      0.00        40\n",
      "       I-gpe       0.00      0.00      0.00         2\n",
      "       B-eve       0.00      0.00      0.00         3\n",
      "       B-geo       0.00      0.00      0.00        40\n",
      "       B-art       0.00      0.00      0.00         4\n",
      "       I-art       0.00      0.00      0.00         2\n",
      "       B-per       0.00      0.00      0.00        34\n",
      "\n",
      "   micro avg       0.91      0.91      0.91      3220\n",
      "   macro avg       0.11      0.12      0.11      3220\n",
      "weighted avg       0.85      0.91      0.88      3220\n",
      "\n"
     ]
    }
   ],
   "source": [
    "# Print classification report\n",
    "report_fasttext = classification_report(true_labels, pred_labels, labels=ner_labels)\n",
    "print(\"Classification Report FastText\")\n",
    "print(report_fasttext)\n",
    "\n",
    "report_fasttext = classification_report(true_labels, pred_labels, labels=ner_labels, output_dict=True)"
   ]
  },
  {
   "cell_type": "markdown",
   "metadata": {},
   "source": [
    "# Section 4: Evaluate the performance of Bert & FastText models"
   ]
  },
  {
   "cell_type": "code",
   "execution_count": 55,
   "metadata": {
    "execution": {
     "iopub.execute_input": "2023-09-24T08:58:11.927466Z",
     "iopub.status.busy": "2023-09-24T08:58:11.926945Z",
     "iopub.status.idle": "2023-09-24T08:58:12.846647Z",
     "shell.execute_reply": "2023-09-24T08:58:12.844938Z",
     "shell.execute_reply.started": "2023-09-24T08:58:11.927427Z"
    }
   },
   "outputs": [
    {
     "data": {
      "image/png": "[encoded data removed]",
      "text/plain": [
       "<Figure size 864x288 with 1 Axes>"
      ]
     },
     "metadata": {
      "needs_background": "light"
     },
     "output_type": "display_data"
    }
   ],
   "source": [
    "# Plot training loss of Bert & FastText\n",
    "plt.figure(figsize=(12, 4))\n",
    "plt.subplot(1, 2, 1)\n",
    "plt.plot(range(1, num_epochs + 1), train_loss_history_bert, label='Bert Train Loss')\n",
    "plt.plot(range(1, num_epochs + 1), train_loss_history_fastText, label='FastText Train Loss')\n",
    "plt.xlabel('Epoch')\n",
    "plt.ylabel('Loss')\n",
    "plt.legend()\n",
    "\n",
    "# Show the plots\n",
    "plt.tight_layout()\n",
    "plt.show()\n"
   ]
  },
  {
   "cell_type": "code",
   "execution_count": 56,
   "metadata": {
    "execution": {
     "iopub.status.busy": "2023-09-24T08:01:43.796775Z",
     "iopub.status.idle": "2023-09-24T08:01:43.797575Z",
     "shell.execute_reply": "2023-09-24T08:01:43.797347Z",
     "shell.execute_reply.started": "2023-09-24T08:01:43.797324Z"
    }
   },
   "outputs": [
    {
     "data": {
      "image/png": "[encoded data removed]",
      "text/plain": [
       "<Figure size 864x288 with 1 Axes>"
      ]
     },
     "metadata": {
      "needs_background": "light"
     },
     "output_type": "display_data"
    }
   ],
   "source": [
    "# Plot training accuracy of Bert & FastText\n",
    "plt.figure(figsize=(12, 4))\n",
    "plt.subplot(1, 2, 1)\n",
    "plt.plot(range(1, num_epochs + 1), train_accuracy_history_bert, label='Bert Train Accuracy')\n",
    "plt.plot(range(1, num_epochs + 1), train_acc_history_fastText, label='FastText Train Accuracy')\n",
    "plt.xlabel('Epoch')\n",
    "plt.ylabel('Loss')\n",
    "plt.legend()\n",
    "\n",
    "# Show the plots\n",
    "plt.tight_layout()\n",
    "plt.show()\n"
   ]
  },
  {
   "cell_type": "code",
   "execution_count": 57,
   "metadata": {
    "execution": {
     "iopub.execute_input": "2023-09-24T09:03:42.706967Z",
     "iopub.status.busy": "2023-09-24T09:03:42.706581Z",
     "iopub.status.idle": "2023-09-24T09:03:42.773467Z",
     "shell.execute_reply": "2023-09-24T09:03:42.771672Z",
     "shell.execute_reply.started": "2023-09-24T09:03:42.706938Z"
    }
   },
   "outputs": [
    {
     "name": "stdout",
     "output_type": "stream",
     "text": [
      "Bert Accuracy:  99.0966796875 %\n",
      "FastText Accuracy: 91.24223602484473 %\n"
     ]
    }
   ],
   "source": [
    "# print accuracy of Bert & FastText\n",
    "print(\"Bert Accuracy: \", test_accuracy_history_bert[0]*100, \"%\")\n",
    "print(\"FastText Accuracy: \", test_accuracy_fastText*100, \"%\")"
   ]
  },
  {
   "cell_type": "code",
   "execution_count": 58,
   "metadata": {
    "execution": {
     "iopub.status.busy": "2023-09-24T08:01:43.803286Z",
     "iopub.status.idle": "2023-09-24T08:01:43.804079Z",
     "shell.execute_reply": "2023-09-24T08:01:43.803834Z",
     "shell.execute_reply.started": "2023-09-24T08:01:43.803810Z"
    }
   },
   "outputs": [
    {
     "data": {
      "text/plain": [
       "<AxesSubplot:>"
      ]
     },
     "execution_count": 58,
     "metadata": {},
     "output_type": "execute_result"
    },
    {
     "data": {
      "image/png": "[encoded data removed]",
      "text/plain": [
       "<Figure size 432x288 with 2 Axes>"
      ]
     },
     "metadata": {
      "needs_background": "light"
     },
     "output_type": "display_data"
    }
   ],
   "source": [
    "# heatmap of classification report of Bert\n",
    "sns.heatmap(pd.DataFrame(report_bert).iloc[:-1, :].T, annot=True)"
   ]
  },
  {
   "cell_type": "code",
   "execution_count": 59,
   "metadata": {
    "execution": {
     "iopub.execute_input": "2023-09-24T09:03:58.819570Z",
     "iopub.status.busy": "2023-09-24T09:03:58.819036Z",
     "iopub.status.idle": "2023-09-24T09:03:59.443896Z",
     "shell.execute_reply": "2023-09-24T09:03:59.442209Z",
     "shell.execute_reply.started": "2023-09-24T09:03:58.819529Z"
    }
   },
   "outputs": [
    {
     "data": {
      "text/plain": [
       "<AxesSubplot:>"
      ]
     },
     "execution_count": 59,
     "metadata": {},
     "output_type": "execute_result"
    },
    {
     "data": {
      "image/png": "[encoded data removed]",
      "text/plain": [
       "<Figure size 432x288 with 2 Axes>"
      ]
     },
     "metadata": {
      "needs_background": "light"
     },
     "output_type": "display_data"
    }
   ],
   "source": [
    "# heatmap of classification report of FastText\n",
    "sns.heatmap(pd.DataFrame(report_fasttext).iloc[:-1, :].T, annot=True)"
   ]
  },
  {
   "cell_type": "markdown",
   "metadata": {},
   "source": [
    "### **Results:**\n",
    "\n",
    "1. **BERT Accuracy on testing data**: 99.0%\n",
    "2. **FastText Accuracy on testing data**: 91.2%\n",
    "\n",
    "### **Justification:**\n",
    "\n",
    "1. **BERT Embeddings vs. FastText Embeddings**: The choice of embeddings is crucial for NER. BERT embeddings capture rich contextual information, allowing the model to understand words in context, leading to high accuracy on test data. On the other hand, FastText embeddings may struggle to capture contextual nuances, leading to lower accuracy.\n",
    "\n",
    "2. **BERT Training Performance**: BERT's high accuracy on training data is expected due to its powerful contextual representations. It can learn intricate patterns and associations in the data, resulting in lower training loss.\n",
    "\n",
    "3. **FastText Training Performance**: FastText may have higher training loss due to its limitations in capturing context. It relies on word-level embeddings and may not capture complex relationships between words as effectively as BERT.\n",
    "\n",
    "### **Conclusion:**\n",
    "\n",
    "In NER, the choice of embeddings plays a pivotal role in the model's performance. BERT embeddings excel in capturing context and lead to significantly higher accuracy on test data. However, this superiority in test accuracy is consistent with higher training performance, as BERT embeddings enable the model to learn intricate patterns and associations in the data. FastText, while still effective, struggles to match BERT's performance due to its inability to capture contextual nuances. Therefore, BERT embeddings are the preferred choice for NER tasks where high accuracy and context awareness are critical."
   ]
  }
 ],
 "metadata": {
  "kernelspec": {
   "display_name": "Python 3 (ipykernel)",
   "language": "python",
   "name": "python3"
  },
  "language_info": {
   "codemirror_mode": {
    "name": "ipython",
    "version": 3
   },
   "file_extension": ".py",
   "mimetype": "text/x-python",
   "name": "python",
   "nbconvert_exporter": "python",
   "pygments_lexer": "ipython3",
   "version": "3.10.0"
  }
 },
 "nbformat": 4,
 "nbformat_minor": 4
}
